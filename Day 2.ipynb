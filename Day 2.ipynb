{
 "cells": [
  {
   "cell_type": "code",
   "execution_count": 1,
   "id": "96e88f54",
   "metadata": {},
   "outputs": [
    {
     "name": "stdout",
     "output_type": "stream",
     "text": [
      "Hello World\n"
     ]
    }
   ],
   "source": [
    "print(\"Hello World\")"
   ]
  },
  {
   "cell_type": "markdown",
   "id": "ebeaa898",
   "metadata": {},
   "source": [
    "## Floats: Decimal Value"
   ]
  },
  {
   "cell_type": "code",
   "execution_count": 5,
   "id": "9ab0dc19",
   "metadata": {},
   "outputs": [
    {
     "data": {
      "text/plain": [
       "7.0"
      ]
     },
     "execution_count": 5,
     "metadata": {},
     "output_type": "execute_result"
    }
   ],
   "source": [
    "7.0"
   ]
  },
  {
   "cell_type": "code",
   "execution_count": 6,
   "id": "d939a627",
   "metadata": {},
   "outputs": [
    {
     "data": {
      "text/plain": [
       "7"
      ]
     },
     "execution_count": 6,
     "metadata": {},
     "output_type": "execute_result"
    }
   ],
   "source": [
    "7"
   ]
  },
  {
   "cell_type": "code",
   "execution_count": 7,
   "id": "81fcf9ed",
   "metadata": {},
   "outputs": [
    {
     "data": {
      "text/plain": [
       "str"
      ]
     },
     "execution_count": 7,
     "metadata": {},
     "output_type": "execute_result"
    }
   ],
   "source": [
    "type(\"7\")"
   ]
  },
  {
   "cell_type": "code",
   "execution_count": 8,
   "id": "e2b614f8",
   "metadata": {},
   "outputs": [
    {
     "data": {
      "text/plain": [
       "int"
      ]
     },
     "execution_count": 8,
     "metadata": {},
     "output_type": "execute_result"
    }
   ],
   "source": [
    "type(7)"
   ]
  },
  {
   "cell_type": "code",
   "execution_count": 9,
   "id": "b6cb5c29",
   "metadata": {},
   "outputs": [
    {
     "data": {
      "text/plain": [
       "float"
      ]
     },
     "execution_count": 9,
     "metadata": {},
     "output_type": "execute_result"
    }
   ],
   "source": [
    "type(7.0)"
   ]
  },
  {
   "cell_type": "markdown",
   "id": "b922d280",
   "metadata": {},
   "source": [
    "## Strings"
   ]
  },
  {
   "cell_type": "code",
   "execution_count": 10,
   "id": "8a9bd0a0",
   "metadata": {},
   "outputs": [
    {
     "data": {
      "text/plain": [
       "'porosity'"
      ]
     },
     "execution_count": 10,
     "metadata": {},
     "output_type": "execute_result"
    }
   ],
   "source": [
    "\"porosity\""
   ]
  },
  {
   "cell_type": "code",
   "execution_count": 12,
   "id": "29a2d699",
   "metadata": {},
   "outputs": [
    {
     "data": {
      "text/plain": [
       "str"
      ]
     },
     "execution_count": 12,
     "metadata": {},
     "output_type": "execute_result"
    }
   ],
   "source": [
    "type(\"porosity\")"
   ]
  },
  {
   "cell_type": "markdown",
   "id": "22d644df",
   "metadata": {},
   "source": [
    "## Booleans"
   ]
  },
  {
   "cell_type": "code",
   "execution_count": 13,
   "id": "5cc3a2ca",
   "metadata": {},
   "outputs": [
    {
     "data": {
      "text/plain": [
       "True"
      ]
     },
     "execution_count": 13,
     "metadata": {},
     "output_type": "execute_result"
    }
   ],
   "source": [
    "8>2"
   ]
  },
  {
   "cell_type": "code",
   "execution_count": 14,
   "id": "1c094a37",
   "metadata": {},
   "outputs": [
    {
     "data": {
      "text/plain": [
       "False"
      ]
     },
     "execution_count": 14,
     "metadata": {},
     "output_type": "execute_result"
    }
   ],
   "source": [
    "8<2"
   ]
  },
  {
   "cell_type": "code",
   "execution_count": 15,
   "id": "857369b7",
   "metadata": {},
   "outputs": [
    {
     "data": {
      "text/plain": [
       "True"
      ]
     },
     "execution_count": 15,
     "metadata": {},
     "output_type": "execute_result"
    }
   ],
   "source": [
    "True"
   ]
  },
  {
   "cell_type": "code",
   "execution_count": 16,
   "id": "48f2005e",
   "metadata": {},
   "outputs": [
    {
     "data": {
      "text/plain": [
       "False"
      ]
     },
     "execution_count": 16,
     "metadata": {},
     "output_type": "execute_result"
    }
   ],
   "source": [
    "False"
   ]
  },
  {
   "cell_type": "code",
   "execution_count": 17,
   "id": "72095547",
   "metadata": {},
   "outputs": [
    {
     "data": {
      "text/plain": [
       "bool"
      ]
     },
     "execution_count": 17,
     "metadata": {},
     "output_type": "execute_result"
    }
   ],
   "source": [
    "type(True\n",
    ")"
   ]
  },
  {
   "cell_type": "code",
   "execution_count": 19,
   "id": "51767035",
   "metadata": {},
   "outputs": [
    {
     "data": {
      "text/plain": [
       "bool"
      ]
     },
     "execution_count": 19,
     "metadata": {},
     "output_type": "execute_result"
    }
   ],
   "source": [
    "type(True)"
   ]
  },
  {
   "cell_type": "markdown",
   "id": "43b6d99d",
   "metadata": {},
   "source": [
    "## Mathematical Operations"
   ]
  },
  {
   "cell_type": "code",
   "execution_count": 20,
   "id": "1cb6ba81",
   "metadata": {},
   "outputs": [
    {
     "data": {
      "text/plain": [
       "90"
      ]
     },
     "execution_count": 20,
     "metadata": {},
     "output_type": "execute_result"
    }
   ],
   "source": [
    "45+45"
   ]
  },
  {
   "cell_type": "code",
   "execution_count": 21,
   "id": "4767fe3c",
   "metadata": {},
   "outputs": [
    {
     "data": {
      "text/plain": [
       "415395"
      ]
     },
     "execution_count": 21,
     "metadata": {},
     "output_type": "execute_result"
    }
   ],
   "source": [
    "543*765"
   ]
  },
  {
   "cell_type": "code",
   "execution_count": 22,
   "id": "b69e8f0b",
   "metadata": {},
   "outputs": [
    {
     "data": {
      "text/plain": [
       "117649"
      ]
     },
     "execution_count": 22,
     "metadata": {},
     "output_type": "execute_result"
    }
   ],
   "source": [
    "7**6"
   ]
  },
  {
   "cell_type": "code",
   "execution_count": 23,
   "id": "b5f9743e",
   "metadata": {},
   "outputs": [
    {
     "data": {
      "text/plain": [
       "25.333333333333332"
      ]
     },
     "execution_count": 23,
     "metadata": {},
     "output_type": "execute_result"
    }
   ],
   "source": [
    "76/3"
   ]
  },
  {
   "cell_type": "code",
   "execution_count": 24,
   "id": "b2b55de7",
   "metadata": {},
   "outputs": [
    {
     "data": {
      "text/plain": [
       "25"
      ]
     },
     "execution_count": 24,
     "metadata": {},
     "output_type": "execute_result"
    }
   ],
   "source": [
    "76//3"
   ]
  },
  {
   "cell_type": "code",
   "execution_count": 25,
   "id": "af417fcb",
   "metadata": {},
   "outputs": [
    {
     "data": {
      "text/plain": [
       "'447'"
      ]
     },
     "execution_count": 25,
     "metadata": {},
     "output_type": "execute_result"
    }
   ],
   "source": [
    "\"44\"+\"7\""
   ]
  },
  {
   "cell_type": "code",
   "execution_count": 26,
   "id": "dd190b64",
   "metadata": {},
   "outputs": [
    {
     "data": {
      "text/plain": [
       "'555'"
      ]
     },
     "execution_count": 26,
     "metadata": {},
     "output_type": "execute_result"
    }
   ],
   "source": [
    "\"5\"*3"
   ]
  },
  {
   "cell_type": "code",
   "execution_count": 27,
   "id": "f68b61ac",
   "metadata": {},
   "outputs": [],
   "source": [
    "## booleans"
   ]
  },
  {
   "cell_type": "code",
   "execution_count": 36,
   "id": "3a5c93dd",
   "metadata": {},
   "outputs": [
    {
     "data": {
      "text/plain": [
       "True"
      ]
     },
     "execution_count": 36,
     "metadata": {},
     "output_type": "execute_result"
    }
   ],
   "source": [
    "4>1 and 89>43"
   ]
  },
  {
   "cell_type": "code",
   "execution_count": 35,
   "id": "178db42d",
   "metadata": {},
   "outputs": [
    {
     "data": {
      "text/plain": [
       "False"
      ]
     },
     "execution_count": 35,
     "metadata": {},
     "output_type": "execute_result"
    }
   ],
   "source": [
    "4>1 and 89<43"
   ]
  },
  {
   "cell_type": "code",
   "execution_count": 30,
   "id": "5b3b2f0b",
   "metadata": {},
   "outputs": [
    {
     "data": {
      "text/plain": [
       "False"
      ]
     },
     "execution_count": 30,
     "metadata": {},
     "output_type": "execute_result"
    }
   ],
   "source": [
    "56>23 and 25<20"
   ]
  },
  {
   "cell_type": "code",
   "execution_count": 31,
   "id": "af24055b",
   "metadata": {},
   "outputs": [
    {
     "data": {
      "text/plain": [
       "True"
      ]
     },
     "execution_count": 31,
     "metadata": {},
     "output_type": "execute_result"
    }
   ],
   "source": [
    "56>23 and 25>20"
   ]
  },
  {
   "cell_type": "markdown",
   "id": "2f72414c",
   "metadata": {},
   "source": [
    "## Variables\n",
    "\n",
    "- containers for storing information\n",
    "- variables are created \"=\"\n",
    "- for a given runtime"
   ]
  },
  {
   "cell_type": "code",
   "execution_count": 37,
   "id": "83c689c5",
   "metadata": {},
   "outputs": [],
   "source": [
    "porosity = 20"
   ]
  },
  {
   "cell_type": "code",
   "execution_count": 38,
   "id": "82000af1",
   "metadata": {},
   "outputs": [
    {
     "data": {
      "text/plain": [
       "20"
      ]
     },
     "execution_count": 38,
     "metadata": {},
     "output_type": "execute_result"
    }
   ],
   "source": [
    "porosity"
   ]
  },
  {
   "cell_type": "code",
   "execution_count": 39,
   "id": "ba400aa1",
   "metadata": {},
   "outputs": [
    {
     "data": {
      "text/plain": [
       "int"
      ]
     },
     "execution_count": 39,
     "metadata": {},
     "output_type": "execute_result"
    }
   ],
   "source": [
    "type(porosity)"
   ]
  },
  {
   "cell_type": "code",
   "execution_count": 42,
   "id": "eab61bb5",
   "metadata": {},
   "outputs": [],
   "source": [
    "b = \"petroleum\""
   ]
  },
  {
   "cell_type": "code",
   "execution_count": 43,
   "id": "0f4cc9b2",
   "metadata": {},
   "outputs": [
    {
     "data": {
      "text/plain": [
       "'petroleum'"
      ]
     },
     "execution_count": 43,
     "metadata": {},
     "output_type": "execute_result"
    }
   ],
   "source": [
    "b"
   ]
  },
  {
   "cell_type": "code",
   "execution_count": 46,
   "id": "be253450",
   "metadata": {},
   "outputs": [],
   "source": [
    "#reinitiliase\n",
    "b = \"porosity\""
   ]
  },
  {
   "cell_type": "code",
   "execution_count": 45,
   "id": "ab6282e2",
   "metadata": {},
   "outputs": [
    {
     "data": {
      "text/plain": [
       "20"
      ]
     },
     "execution_count": 45,
     "metadata": {},
     "output_type": "execute_result"
    }
   ],
   "source": [
    "b"
   ]
  },
  {
   "cell_type": "code",
   "execution_count": 47,
   "id": "726a71a8",
   "metadata": {},
   "outputs": [
    {
     "data": {
      "text/plain": [
       "'porosity'"
      ]
     },
     "execution_count": 47,
     "metadata": {},
     "output_type": "execute_result"
    }
   ],
   "source": [
    "b"
   ]
  },
  {
   "cell_type": "code",
   "execution_count": 48,
   "id": "672aac5d",
   "metadata": {},
   "outputs": [
    {
     "ename": "SyntaxError",
     "evalue": "invalid decimal literal (1222629039.py, line 1)",
     "output_type": "error",
     "traceback": [
      "\u001b[1;36m  Cell \u001b[1;32mIn[48], line 1\u001b[1;36m\u001b[0m\n\u001b[1;33m    1a = 435\u001b[0m\n\u001b[1;37m    ^\u001b[0m\n\u001b[1;31mSyntaxError\u001b[0m\u001b[1;31m:\u001b[0m invalid decimal literal\n"
     ]
    }
   ],
   "source": [
    "1a = 435"
   ]
  },
  {
   "cell_type": "code",
   "execution_count": 49,
   "id": "f0f647ef",
   "metadata": {},
   "outputs": [],
   "source": [
    "a1 = 34"
   ]
  },
  {
   "cell_type": "code",
   "execution_count": 50,
   "id": "d3fe2b6e",
   "metadata": {},
   "outputs": [
    {
     "data": {
      "text/plain": [
       "34"
      ]
     },
     "execution_count": 50,
     "metadata": {},
     "output_type": "execute_result"
    }
   ],
   "source": [
    "a1"
   ]
  },
  {
   "cell_type": "code",
   "execution_count": 51,
   "id": "db8e4c97",
   "metadata": {},
   "outputs": [
    {
     "name": "stdout",
     "output_type": "stream",
     "text": [
      "Enter the formation's permeability: 85\n"
     ]
    }
   ],
   "source": [
    "permeability = float(input(\"Enter the formation's permeability: \"))"
   ]
  },
  {
   "cell_type": "code",
   "execution_count": 52,
   "id": "707d549c",
   "metadata": {},
   "outputs": [
    {
     "data": {
      "text/plain": [
       "85.0"
      ]
     },
     "execution_count": 52,
     "metadata": {},
     "output_type": "execute_result"
    }
   ],
   "source": [
    "permeability"
   ]
  },
  {
   "cell_type": "code",
   "execution_count": 53,
   "id": "9c0c83fa",
   "metadata": {},
   "outputs": [
    {
     "data": {
      "text/plain": [
       "float"
      ]
     },
     "execution_count": 53,
     "metadata": {},
     "output_type": "execute_result"
    }
   ],
   "source": [
    "type(permeability)"
   ]
  },
  {
   "cell_type": "markdown",
   "id": "3583983f",
   "metadata": {},
   "source": [
    "## String Formatting"
   ]
  },
  {
   "cell_type": "code",
   "execution_count": 7,
   "id": "e22eae29",
   "metadata": {},
   "outputs": [
    {
     "name": "stdout",
     "output_type": "stream",
     "text": [
      "Enter the formation's permeability: 345\n",
      "Enter the formation's porosity: 0.3\n",
      "Formation permeability is 345.0 mD and porosity is 0.3\n"
     ]
    }
   ],
   "source": [
    "permeability = float(input(\"Enter the formation's permeability: \"))\n",
    "porosity = float(input(\"Enter the formation's porosity: \"))\n",
    "print(f\"Formation permeability is {permeability} mD and porosity is {porosity}\")"
   ]
  },
  {
   "cell_type": "code",
   "execution_count": 14,
   "id": "8802b8a5",
   "metadata": {},
   "outputs": [
    {
     "name": "stdout",
     "output_type": "stream",
     "text": [
      "Formation permeability is 345.0 mD and porosity is 0.3\n"
     ]
    }
   ],
   "source": [
    "print(\"Formation permeability is {} mD and porosity is {}\".format(permeability,porosity))"
   ]
  },
  {
   "cell_type": "code",
   "execution_count": 16,
   "id": "19ef9a14",
   "metadata": {},
   "outputs": [
    {
     "name": "stdout",
     "output_type": "stream",
     "text": [
      "Formation permeability is  345.0 mD and porosity is  0.3\n"
     ]
    }
   ],
   "source": [
    "print(\"Formation permeability is \", permeability, \"mD and porosity is \", porosity)"
   ]
  },
  {
   "cell_type": "code",
   "execution_count": null,
   "id": "f5a1d4d5",
   "metadata": {},
   "outputs": [],
   "source": []
  },
  {
   "cell_type": "code",
   "execution_count": null,
   "id": "387ff118",
   "metadata": {},
   "outputs": [],
   "source": []
  },
  {
   "cell_type": "code",
   "execution_count": null,
   "id": "28238b41",
   "metadata": {},
   "outputs": [],
   "source": []
  }
 ],
 "metadata": {
  "kernelspec": {
   "display_name": "Python 3 (ipykernel)",
   "language": "python",
   "name": "python3"
  },
  "language_info": {
   "codemirror_mode": {
    "name": "ipython",
    "version": 3
   },
   "file_extension": ".py",
   "mimetype": "text/x-python",
   "name": "python",
   "nbconvert_exporter": "python",
   "pygments_lexer": "ipython3",
   "version": "3.11.4"
  }
 },
 "nbformat": 4,
 "nbformat_minor": 5
}
